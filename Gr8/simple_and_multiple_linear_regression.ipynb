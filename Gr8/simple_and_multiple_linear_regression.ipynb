{
 "cells": [
  {
   "cell_type": "markdown",
   "source": [
    "# Preprocessing"
   ],
   "metadata": {
    "collapsed": false
   }
  },
  {
   "cell_type": "code",
   "execution_count": 88,
   "outputs": [],
   "source": [
    "import numpy as np\n",
    "import pandas as pd"
   ],
   "metadata": {
    "collapsed": false
   }
  },
  {
   "cell_type": "code",
   "execution_count": 89,
   "outputs": [],
   "source": [
    "df = pd.read_csv('data_linereg.csv')"
   ],
   "metadata": {
    "collapsed": false
   }
  },
  {
   "cell_type": "code",
   "execution_count": 90,
   "outputs": [
    {
     "data": {
      "text/plain": "   Country   Age   Salary Purchased\n0   France  44.0  72000.0        No\n1    Spain  27.0  48000.0       Yes\n2  Germany  30.0  54000.0        No\n3    Spain  38.0  61000.0        No\n4  Germany  40.0      NaN       Yes",
      "text/html": "<div>\n<style scoped>\n    .dataframe tbody tr th:only-of-type {\n        vertical-align: middle;\n    }\n\n    .dataframe tbody tr th {\n        vertical-align: top;\n    }\n\n    .dataframe thead th {\n        text-align: right;\n    }\n</style>\n<table border=\"1\" class=\"dataframe\">\n  <thead>\n    <tr style=\"text-align: right;\">\n      <th></th>\n      <th>Country</th>\n      <th>Age</th>\n      <th>Salary</th>\n      <th>Purchased</th>\n    </tr>\n  </thead>\n  <tbody>\n    <tr>\n      <th>0</th>\n      <td>France</td>\n      <td>44.0</td>\n      <td>72000.0</td>\n      <td>No</td>\n    </tr>\n    <tr>\n      <th>1</th>\n      <td>Spain</td>\n      <td>27.0</td>\n      <td>48000.0</td>\n      <td>Yes</td>\n    </tr>\n    <tr>\n      <th>2</th>\n      <td>Germany</td>\n      <td>30.0</td>\n      <td>54000.0</td>\n      <td>No</td>\n    </tr>\n    <tr>\n      <th>3</th>\n      <td>Spain</td>\n      <td>38.0</td>\n      <td>61000.0</td>\n      <td>No</td>\n    </tr>\n    <tr>\n      <th>4</th>\n      <td>Germany</td>\n      <td>40.0</td>\n      <td>NaN</td>\n      <td>Yes</td>\n    </tr>\n  </tbody>\n</table>\n</div>"
     },
     "execution_count": 90,
     "metadata": {},
     "output_type": "execute_result"
    }
   ],
   "source": [
    "df.head()"
   ],
   "metadata": {
    "collapsed": false
   }
  },
  {
   "cell_type": "code",
   "execution_count": 91,
   "outputs": [
    {
     "name": "stdout",
     "output_type": "stream",
     "text": [
      "<class 'pandas.core.frame.DataFrame'>\n",
      "RangeIndex: 10 entries, 0 to 9\n",
      "Data columns (total 4 columns):\n",
      " #   Column     Non-Null Count  Dtype  \n",
      "---  ------     --------------  -----  \n",
      " 0   Country    10 non-null     object \n",
      " 1   Age        9 non-null      float64\n",
      " 2   Salary     9 non-null      float64\n",
      " 3   Purchased  10 non-null     object \n",
      "dtypes: float64(2), object(2)\n",
      "memory usage: 448.0+ bytes\n"
     ]
    }
   ],
   "source": [
    "df.info()"
   ],
   "metadata": {
    "collapsed": false
   }
  },
  {
   "cell_type": "markdown",
   "source": [
    "## Splitting into dependant and independant variable set"
   ],
   "metadata": {
    "collapsed": false
   }
  },
  {
   "cell_type": "code",
   "execution_count": 92,
   "outputs": [
    {
     "data": {
      "text/plain": "Index(['Country', 'Age', 'Salary', 'Purchased'], dtype='object')"
     },
     "execution_count": 92,
     "metadata": {},
     "output_type": "execute_result"
    }
   ],
   "source": [
    "df.columns"
   ],
   "metadata": {
    "collapsed": false
   }
  },
  {
   "cell_type": "code",
   "execution_count": 93,
   "outputs": [],
   "source": [
    "X = df.iloc[:, :-1].values\n",
    "y = df.iloc[:, -1].values"
   ],
   "metadata": {
    "collapsed": false
   }
  },
  {
   "cell_type": "code",
   "execution_count": 94,
   "outputs": [
    {
     "data": {
      "text/plain": "array([['France', 44.0, 72000.0],\n       ['Spain', 27.0, 48000.0],\n       ['Germany', 30.0, 54000.0],\n       ['Spain', 38.0, 61000.0],\n       ['Germany', 40.0, nan],\n       ['France', 35.0, 58000.0],\n       ['Spain', nan, 52000.0],\n       ['France', 48.0, 79000.0],\n       ['Germany', 50.0, 83000.0],\n       ['France', 37.0, 67000.0]], dtype=object)"
     },
     "execution_count": 94,
     "metadata": {},
     "output_type": "execute_result"
    }
   ],
   "source": [
    "X"
   ],
   "metadata": {
    "collapsed": false
   }
  },
  {
   "cell_type": "code",
   "execution_count": 95,
   "outputs": [
    {
     "data": {
      "text/plain": "array(['No', 'Yes', 'No', 'No', 'Yes', 'Yes', 'No', 'Yes', 'No', 'Yes'],\n      dtype=object)"
     },
     "execution_count": 95,
     "metadata": {},
     "output_type": "execute_result"
    }
   ],
   "source": [
    "y"
   ],
   "metadata": {
    "collapsed": false
   }
  },
  {
   "cell_type": "code",
   "execution_count": 96,
   "outputs": [],
   "source": [
    "from sklearn.impute import SimpleImputer"
   ],
   "metadata": {
    "collapsed": false
   }
  },
  {
   "cell_type": "code",
   "execution_count": 97,
   "outputs": [],
   "source": [
    "imp = SimpleImputer(missing_values = np.nan, strategy = 'mean')"
   ],
   "metadata": {
    "collapsed": false
   }
  },
  {
   "cell_type": "code",
   "execution_count": 98,
   "outputs": [],
   "source": [
    "imp.fit(X[:, 1:])\n",
    "X[:, 1:] = imp.transform(X[:, 1:])"
   ],
   "metadata": {
    "collapsed": false
   }
  },
  {
   "cell_type": "code",
   "execution_count": 99,
   "outputs": [
    {
     "data": {
      "text/plain": "array([['France', 44.0, 72000.0],\n       ['Spain', 27.0, 48000.0],\n       ['Germany', 30.0, 54000.0],\n       ['Spain', 38.0, 61000.0],\n       ['Germany', 40.0, 63777.77777777778],\n       ['France', 35.0, 58000.0],\n       ['Spain', 38.77777777777778, 52000.0],\n       ['France', 48.0, 79000.0],\n       ['Germany', 50.0, 83000.0],\n       ['France', 37.0, 67000.0]], dtype=object)"
     },
     "execution_count": 99,
     "metadata": {},
     "output_type": "execute_result"
    }
   ],
   "source": [
    "X"
   ],
   "metadata": {
    "collapsed": false
   }
  },
  {
   "cell_type": "markdown",
   "source": [
    "## Label Encoding the dependant variable"
   ],
   "metadata": {
    "collapsed": false
   }
  },
  {
   "cell_type": "code",
   "execution_count": 100,
   "outputs": [],
   "source": [
    "from sklearn.preprocessing import LabelEncoder"
   ],
   "metadata": {
    "collapsed": false
   }
  },
  {
   "cell_type": "code",
   "execution_count": 101,
   "outputs": [],
   "source": [
    "lab = LabelEncoder()\n",
    "lab.fit(y)\n",
    "y = lab.transform(y)"
   ],
   "metadata": {
    "collapsed": false
   }
  },
  {
   "cell_type": "code",
   "execution_count": 102,
   "outputs": [
    {
     "data": {
      "text/plain": "array([0, 1, 0, 0, 1, 1, 0, 1, 0, 1])"
     },
     "execution_count": 102,
     "metadata": {},
     "output_type": "execute_result"
    }
   ],
   "source": [
    "y"
   ],
   "metadata": {
    "collapsed": false
   }
  },
  {
   "cell_type": "markdown",
   "source": [
    "## One Hot Encoding the Country feature"
   ],
   "metadata": {
    "collapsed": false
   }
  },
  {
   "cell_type": "code",
   "execution_count": 103,
   "outputs": [],
   "source": [
    "from sklearn.compose import ColumnTransformer\n",
    "from sklearn.preprocessing import OneHotEncoder"
   ],
   "metadata": {
    "collapsed": false
   }
  },
  {
   "cell_type": "code",
   "execution_count": 104,
   "outputs": [],
   "source": [
    "col = ColumnTransformer(\n",
    "    transformers = [('encoder', OneHotEncoder(), [0])],\n",
    "    remainder = 'passthrough'\n",
    ")\n",
    "col.fit(X)\n",
    "X = col.transform(X)"
   ],
   "metadata": {
    "collapsed": false
   }
  },
  {
   "cell_type": "code",
   "execution_count": 105,
   "outputs": [
    {
     "data": {
      "text/plain": "array([[1.0, 0.0, 0.0, 44.0, 72000.0],\n       [0.0, 0.0, 1.0, 27.0, 48000.0],\n       [0.0, 1.0, 0.0, 30.0, 54000.0],\n       [0.0, 0.0, 1.0, 38.0, 61000.0],\n       [0.0, 1.0, 0.0, 40.0, 63777.77777777778],\n       [1.0, 0.0, 0.0, 35.0, 58000.0],\n       [0.0, 0.0, 1.0, 38.77777777777778, 52000.0],\n       [1.0, 0.0, 0.0, 48.0, 79000.0],\n       [0.0, 1.0, 0.0, 50.0, 83000.0],\n       [1.0, 0.0, 0.0, 37.0, 67000.0]], dtype=object)"
     },
     "execution_count": 105,
     "metadata": {},
     "output_type": "execute_result"
    }
   ],
   "source": [
    "X"
   ],
   "metadata": {
    "collapsed": false
   }
  },
  {
   "cell_type": "markdown",
   "source": [
    "## Split the data to train-test"
   ],
   "metadata": {
    "collapsed": false
   }
  },
  {
   "cell_type": "code",
   "execution_count": 106,
   "outputs": [],
   "source": [
    "from sklearn.model_selection import train_test_split"
   ],
   "metadata": {
    "collapsed": false
   }
  },
  {
   "cell_type": "code",
   "execution_count": 107,
   "outputs": [],
   "source": [
    "X_train, X_test, y_train, y_test = train_test_split(X, y, test_size = 0.2, random_state = 0)"
   ],
   "metadata": {
    "collapsed": false
   }
  },
  {
   "cell_type": "code",
   "execution_count": 108,
   "outputs": [
    {
     "data": {
      "text/plain": "array([[0.0, 1.0, 0.0, 40.0, 63777.77777777778],\n       [1.0, 0.0, 0.0, 37.0, 67000.0],\n       [0.0, 0.0, 1.0, 27.0, 48000.0],\n       [0.0, 0.0, 1.0, 38.77777777777778, 52000.0],\n       [1.0, 0.0, 0.0, 48.0, 79000.0],\n       [0.0, 0.0, 1.0, 38.0, 61000.0],\n       [1.0, 0.0, 0.0, 44.0, 72000.0],\n       [1.0, 0.0, 0.0, 35.0, 58000.0]], dtype=object)"
     },
     "execution_count": 108,
     "metadata": {},
     "output_type": "execute_result"
    }
   ],
   "source": [
    "X_train"
   ],
   "metadata": {
    "collapsed": false
   }
  },
  {
   "cell_type": "code",
   "execution_count": 109,
   "outputs": [
    {
     "data": {
      "text/plain": "array([[0.0, 1.0, 0.0, 30.0, 54000.0],\n       [0.0, 1.0, 0.0, 50.0, 83000.0]], dtype=object)"
     },
     "execution_count": 109,
     "metadata": {},
     "output_type": "execute_result"
    }
   ],
   "source": [
    "X_test"
   ],
   "metadata": {
    "collapsed": false
   }
  },
  {
   "cell_type": "code",
   "execution_count": 110,
   "outputs": [
    {
     "data": {
      "text/plain": "array([1, 1, 1, 0, 1, 0, 0, 1])"
     },
     "execution_count": 110,
     "metadata": {},
     "output_type": "execute_result"
    }
   ],
   "source": [
    "y_train"
   ],
   "metadata": {
    "collapsed": false
   }
  },
  {
   "cell_type": "code",
   "execution_count": 111,
   "outputs": [
    {
     "data": {
      "text/plain": "array([0, 0])"
     },
     "execution_count": 111,
     "metadata": {},
     "output_type": "execute_result"
    }
   ],
   "source": [
    "y_test"
   ],
   "metadata": {
    "collapsed": false
   }
  },
  {
   "cell_type": "markdown",
   "source": [
    "## Feature Scaling"
   ],
   "metadata": {
    "collapsed": false
   }
  },
  {
   "cell_type": "code",
   "execution_count": 112,
   "outputs": [],
   "source": [
    "from sklearn.preprocessing import StandardScaler"
   ],
   "metadata": {
    "collapsed": false
   }
  },
  {
   "cell_type": "code",
   "execution_count": 113,
   "outputs": [],
   "source": [
    "scal = StandardScaler()\n",
    "scal.fit(X_train[:, -2:])\n",
    "X_train[:, -2:] = scal.transform(X_train[:, -2:])\n",
    "X_test[:, -2:] = scal.transform(X_test[:, -2:])"
   ],
   "metadata": {
    "collapsed": false
   }
  },
  {
   "cell_type": "code",
   "execution_count": 114,
   "outputs": [
    {
     "data": {
      "text/plain": "array([[0.0, 1.0, 0.0, 0.2630675731713538, 0.1238147854838185],\n       [1.0, 0.0, 0.0, -0.25350147960148617, 0.4617563176278856],\n       [0.0, 0.0, 1.0, -1.9753983221776195, -1.5309334063940294],\n       [0.0, 0.0, 1.0, 0.05261351463427101, -1.1114197802841526],\n       [1.0, 0.0, 0.0, 1.6405850472322605, 1.7202971959575162],\n       [0.0, 0.0, 1.0, -0.08131179534387283, -0.16751412153692966],\n       [1.0, 0.0, 0.0, 0.9518263102018072, 0.9861483502652316],\n       [1.0, 0.0, 0.0, -0.5978808481167128, -0.48214934111933727]],\n      dtype=object)"
     },
     "execution_count": 114,
     "metadata": {},
     "output_type": "execute_result"
    }
   ],
   "source": [
    "X_train"
   ],
   "metadata": {
    "collapsed": false
   }
  },
  {
   "cell_type": "code",
   "execution_count": 115,
   "outputs": [
    {
     "data": {
      "text/plain": "array([[0.0, 1.0, 0.0, -1.4588292694047795, -0.9016629672292141],\n       [0.0, 1.0, 0.0, 1.984964415747487, 2.139810822067393]],\n      dtype=object)"
     },
     "execution_count": 115,
     "metadata": {},
     "output_type": "execute_result"
    }
   ],
   "source": [
    "X_test"
   ],
   "metadata": {
    "collapsed": false
   }
  },
  {
   "cell_type": "markdown",
   "source": [
    "## Simple Linear Regression - Model"
   ],
   "metadata": {
    "collapsed": false
   }
  },
  {
   "cell_type": "code",
   "execution_count": 116,
   "outputs": [],
   "source": [
    "df = pd.read_csv('Salary_Data.csv')"
   ],
   "metadata": {
    "collapsed": false
   }
  },
  {
   "cell_type": "code",
   "execution_count": 117,
   "outputs": [
    {
     "name": "stdout",
     "output_type": "stream",
     "text": [
      "<class 'pandas.core.frame.DataFrame'>\n",
      "RangeIndex: 30 entries, 0 to 29\n",
      "Data columns (total 2 columns):\n",
      " #   Column           Non-Null Count  Dtype  \n",
      "---  ------           --------------  -----  \n",
      " 0   YearsExperience  30 non-null     float64\n",
      " 1   Salary           30 non-null     float64\n",
      "dtypes: float64(2)\n",
      "memory usage: 608.0 bytes\n"
     ]
    }
   ],
   "source": [
    "df.info()"
   ],
   "metadata": {
    "collapsed": false
   }
  },
  {
   "cell_type": "code",
   "execution_count": 118,
   "outputs": [
    {
     "data": {
      "text/plain": "    YearsExperience    Salary\n0               1.1   39343.0\n1               1.3   46205.0\n2               1.5   37731.0\n3               2.0   43525.0\n4               2.2   39891.0\n5               2.9   56642.0\n6               3.0   60150.0\n7               3.2   54445.0\n8               3.2   64445.0\n9               3.7   57189.0\n10              3.9   63218.0\n11              4.0   55794.0\n12              4.0   56957.0\n13              4.1   57081.0\n14              4.5   61111.0\n15              4.9   67938.0\n16              5.1   66029.0\n17              5.3   83088.0\n18              5.9   81363.0\n19              6.0   93940.0\n20              6.8   91738.0\n21              7.1   98273.0\n22              7.9  101302.0\n23              8.2  113812.0\n24              8.7  109431.0\n25              9.0  105582.0\n26              9.5  116969.0\n27              9.6  112635.0\n28             10.3  122391.0\n29             10.5  121872.0",
      "text/html": "<div>\n<style scoped>\n    .dataframe tbody tr th:only-of-type {\n        vertical-align: middle;\n    }\n\n    .dataframe tbody tr th {\n        vertical-align: top;\n    }\n\n    .dataframe thead th {\n        text-align: right;\n    }\n</style>\n<table border=\"1\" class=\"dataframe\">\n  <thead>\n    <tr style=\"text-align: right;\">\n      <th></th>\n      <th>YearsExperience</th>\n      <th>Salary</th>\n    </tr>\n  </thead>\n  <tbody>\n    <tr>\n      <th>0</th>\n      <td>1.1</td>\n      <td>39343.0</td>\n    </tr>\n    <tr>\n      <th>1</th>\n      <td>1.3</td>\n      <td>46205.0</td>\n    </tr>\n    <tr>\n      <th>2</th>\n      <td>1.5</td>\n      <td>37731.0</td>\n    </tr>\n    <tr>\n      <th>3</th>\n      <td>2.0</td>\n      <td>43525.0</td>\n    </tr>\n    <tr>\n      <th>4</th>\n      <td>2.2</td>\n      <td>39891.0</td>\n    </tr>\n    <tr>\n      <th>5</th>\n      <td>2.9</td>\n      <td>56642.0</td>\n    </tr>\n    <tr>\n      <th>6</th>\n      <td>3.0</td>\n      <td>60150.0</td>\n    </tr>\n    <tr>\n      <th>7</th>\n      <td>3.2</td>\n      <td>54445.0</td>\n    </tr>\n    <tr>\n      <th>8</th>\n      <td>3.2</td>\n      <td>64445.0</td>\n    </tr>\n    <tr>\n      <th>9</th>\n      <td>3.7</td>\n      <td>57189.0</td>\n    </tr>\n    <tr>\n      <th>10</th>\n      <td>3.9</td>\n      <td>63218.0</td>\n    </tr>\n    <tr>\n      <th>11</th>\n      <td>4.0</td>\n      <td>55794.0</td>\n    </tr>\n    <tr>\n      <th>12</th>\n      <td>4.0</td>\n      <td>56957.0</td>\n    </tr>\n    <tr>\n      <th>13</th>\n      <td>4.1</td>\n      <td>57081.0</td>\n    </tr>\n    <tr>\n      <th>14</th>\n      <td>4.5</td>\n      <td>61111.0</td>\n    </tr>\n    <tr>\n      <th>15</th>\n      <td>4.9</td>\n      <td>67938.0</td>\n    </tr>\n    <tr>\n      <th>16</th>\n      <td>5.1</td>\n      <td>66029.0</td>\n    </tr>\n    <tr>\n      <th>17</th>\n      <td>5.3</td>\n      <td>83088.0</td>\n    </tr>\n    <tr>\n      <th>18</th>\n      <td>5.9</td>\n      <td>81363.0</td>\n    </tr>\n    <tr>\n      <th>19</th>\n      <td>6.0</td>\n      <td>93940.0</td>\n    </tr>\n    <tr>\n      <th>20</th>\n      <td>6.8</td>\n      <td>91738.0</td>\n    </tr>\n    <tr>\n      <th>21</th>\n      <td>7.1</td>\n      <td>98273.0</td>\n    </tr>\n    <tr>\n      <th>22</th>\n      <td>7.9</td>\n      <td>101302.0</td>\n    </tr>\n    <tr>\n      <th>23</th>\n      <td>8.2</td>\n      <td>113812.0</td>\n    </tr>\n    <tr>\n      <th>24</th>\n      <td>8.7</td>\n      <td>109431.0</td>\n    </tr>\n    <tr>\n      <th>25</th>\n      <td>9.0</td>\n      <td>105582.0</td>\n    </tr>\n    <tr>\n      <th>26</th>\n      <td>9.5</td>\n      <td>116969.0</td>\n    </tr>\n    <tr>\n      <th>27</th>\n      <td>9.6</td>\n      <td>112635.0</td>\n    </tr>\n    <tr>\n      <th>28</th>\n      <td>10.3</td>\n      <td>122391.0</td>\n    </tr>\n    <tr>\n      <th>29</th>\n      <td>10.5</td>\n      <td>121872.0</td>\n    </tr>\n  </tbody>\n</table>\n</div>"
     },
     "execution_count": 118,
     "metadata": {},
     "output_type": "execute_result"
    }
   ],
   "source": [
    "df"
   ],
   "metadata": {
    "collapsed": false
   }
  },
  {
   "cell_type": "code",
   "execution_count": 119,
   "outputs": [],
   "source": [
    "X = df.iloc[:, 0:1].values\n",
    "y = df.iloc[:, -1].values"
   ],
   "metadata": {
    "collapsed": false
   }
  },
  {
   "cell_type": "code",
   "execution_count": 120,
   "outputs": [
    {
     "data": {
      "text/plain": "array([[ 1.1],\n       [ 1.3],\n       [ 1.5],\n       [ 2. ],\n       [ 2.2],\n       [ 2.9],\n       [ 3. ],\n       [ 3.2],\n       [ 3.2],\n       [ 3.7],\n       [ 3.9],\n       [ 4. ],\n       [ 4. ],\n       [ 4.1],\n       [ 4.5],\n       [ 4.9],\n       [ 5.1],\n       [ 5.3],\n       [ 5.9],\n       [ 6. ],\n       [ 6.8],\n       [ 7.1],\n       [ 7.9],\n       [ 8.2],\n       [ 8.7],\n       [ 9. ],\n       [ 9.5],\n       [ 9.6],\n       [10.3],\n       [10.5]])"
     },
     "execution_count": 120,
     "metadata": {},
     "output_type": "execute_result"
    }
   ],
   "source": [
    "X"
   ],
   "metadata": {
    "collapsed": false
   }
  },
  {
   "cell_type": "code",
   "execution_count": 121,
   "outputs": [
    {
     "data": {
      "text/plain": "array([ 39343.,  46205.,  37731.,  43525.,  39891.,  56642.,  60150.,\n        54445.,  64445.,  57189.,  63218.,  55794.,  56957.,  57081.,\n        61111.,  67938.,  66029.,  83088.,  81363.,  93940.,  91738.,\n        98273., 101302., 113812., 109431., 105582., 116969., 112635.,\n       122391., 121872.])"
     },
     "execution_count": 121,
     "metadata": {},
     "output_type": "execute_result"
    }
   ],
   "source": [
    "y"
   ],
   "metadata": {
    "collapsed": false
   }
  },
  {
   "cell_type": "code",
   "execution_count": 122,
   "outputs": [],
   "source": [
    "from sklearn.model_selection import train_test_split"
   ],
   "metadata": {
    "collapsed": false
   }
  },
  {
   "cell_type": "code",
   "execution_count": 123,
   "outputs": [],
   "source": [
    "X_train, X_test, y_train, y_test = train_test_split(X, y, test_size = 0.2, random_state = 0)"
   ],
   "metadata": {
    "collapsed": false
   }
  },
  {
   "cell_type": "code",
   "execution_count": 124,
   "outputs": [],
   "source": [
    "from sklearn.linear_model import LinearRegression"
   ],
   "metadata": {
    "collapsed": false
   }
  },
  {
   "cell_type": "code",
   "execution_count": 125,
   "outputs": [
    {
     "data": {
      "text/plain": "LinearRegression()"
     },
     "execution_count": 125,
     "metadata": {},
     "output_type": "execute_result"
    }
   ],
   "source": [
    "reg = LinearRegression()\n",
    "reg.fit(X_train, y_train)"
   ],
   "metadata": {
    "collapsed": false
   }
  },
  {
   "cell_type": "code",
   "execution_count": 126,
   "outputs": [],
   "source": [
    "y_pred = reg.predict(X_test)"
   ],
   "metadata": {
    "collapsed": false
   }
  },
  {
   "cell_type": "code",
   "execution_count": 127,
   "outputs": [
    {
     "data": {
      "text/plain": "array([ 40748.96184072, 122699.62295594,  64961.65717022,  63099.14214487,\n       115249.56285456, 107799.50275317])"
     },
     "execution_count": 127,
     "metadata": {},
     "output_type": "execute_result"
    }
   ],
   "source": [
    "y_pred"
   ],
   "metadata": {
    "collapsed": false
   }
  },
  {
   "cell_type": "code",
   "execution_count": 128,
   "outputs": [
    {
     "data": {
      "text/plain": "array([[ 1.5],\n       [10.3],\n       [ 4.1],\n       [ 3.9],\n       [ 9.5],\n       [ 8.7]])"
     },
     "execution_count": 128,
     "metadata": {},
     "output_type": "execute_result"
    }
   ],
   "source": [
    "X_test"
   ],
   "metadata": {
    "collapsed": false
   }
  },
  {
   "cell_type": "code",
   "execution_count": 130,
   "outputs": [
    {
     "data": {
      "text/plain": "array([[ 9.6],\n       [ 4. ],\n       [ 5.3],\n       [ 7.9],\n       [ 2.9],\n       [ 5.1],\n       [ 3.2],\n       [ 4.5],\n       [ 8.2],\n       [ 6.8],\n       [ 1.3],\n       [10.5],\n       [ 3. ],\n       [ 2.2],\n       [ 5.9],\n       [ 6. ],\n       [ 3.7],\n       [ 3.2],\n       [ 9. ],\n       [ 2. ],\n       [ 1.1],\n       [ 7.1],\n       [ 4.9],\n       [ 4. ]])"
     },
     "execution_count": 130,
     "metadata": {},
     "output_type": "execute_result"
    }
   ],
   "source": [
    "X_train"
   ],
   "metadata": {
    "collapsed": false
   }
  },
  {
   "cell_type": "code",
   "execution_count": 131,
   "outputs": [],
   "source": [
    "from matplotlib import pyplot as plt"
   ],
   "metadata": {
    "collapsed": false
   }
  },
  {
   "cell_type": "code",
   "execution_count": 139,
   "outputs": [
    {
     "data": {
      "text/plain": "<Figure size 1000x600 with 1 Axes>",
      "image/png": "[encoded data removed]"
     },
     "metadata": {},
     "output_type": "display_data"
    }
   ],
   "source": [
    "fig, ax = plt.subplots(nrows = 1, ncols = 1, figsize = (10, 6), dpi = 100)\n",
    "ax.plot(X_test, y_pred, color = 'red', label = 'Predicted Line')\n",
    "ax.scatter(X_test, y_test, label = 'Test Data')\n",
    "ax.scatter(X_train, y_train, label = 'Train Data')\n",
    "ax.legend(loc = 'best')\n",
    "ax.set_xlabel('Years of Experience')\n",
    "ax.set_ylabel('Salary')\n",
    "plt.show()"
   ],
   "metadata": {
    "collapsed": false
   }
  },
  {
   "cell_type": "markdown",
   "source": [
    "## Multiple Linear Regression"
   ],
   "metadata": {
    "collapsed": false
   }
  },
  {
   "cell_type": "code",
   "execution_count": 140,
   "outputs": [],
   "source": [
    "df = pd.read_csv('50_Startups.csv')"
   ],
   "metadata": {
    "collapsed": false
   }
  },
  {
   "cell_type": "code",
   "execution_count": 141,
   "outputs": [
    {
     "data": {
      "text/plain": "   R&D Spend  Administration  Marketing Spend       State     Profit\n0  165349.20       136897.80        471784.10    New York  192261.83\n1  162597.70       151377.59        443898.53  California  191792.06\n2  153441.51       101145.55        407934.54     Florida  191050.39",
      "text/html": "<div>\n<style scoped>\n    .dataframe tbody tr th:only-of-type {\n        vertical-align: middle;\n    }\n\n    .dataframe tbody tr th {\n        vertical-align: top;\n    }\n\n    .dataframe thead th {\n        text-align: right;\n    }\n</style>\n<table border=\"1\" class=\"dataframe\">\n  <thead>\n    <tr style=\"text-align: right;\">\n      <th></th>\n      <th>R&amp;D Spend</th>\n      <th>Administration</th>\n      <th>Marketing Spend</th>\n      <th>State</th>\n      <th>Profit</th>\n    </tr>\n  </thead>\n  <tbody>\n    <tr>\n      <th>0</th>\n      <td>165349.20</td>\n      <td>136897.80</td>\n      <td>471784.10</td>\n      <td>New York</td>\n      <td>192261.83</td>\n    </tr>\n    <tr>\n      <th>1</th>\n      <td>162597.70</td>\n      <td>151377.59</td>\n      <td>443898.53</td>\n      <td>California</td>\n      <td>191792.06</td>\n    </tr>\n    <tr>\n      <th>2</th>\n      <td>153441.51</td>\n      <td>101145.55</td>\n      <td>407934.54</td>\n      <td>Florida</td>\n      <td>191050.39</td>\n    </tr>\n  </tbody>\n</table>\n</div>"
     },
     "execution_count": 141,
     "metadata": {},
     "output_type": "execute_result"
    }
   ],
   "source": [
    "df.head(3)"
   ],
   "metadata": {
    "collapsed": false
   }
  },
  {
   "cell_type": "code",
   "execution_count": 142,
   "outputs": [
    {
     "name": "stdout",
     "output_type": "stream",
     "text": [
      "<class 'pandas.core.frame.DataFrame'>\n",
      "RangeIndex: 50 entries, 0 to 49\n",
      "Data columns (total 5 columns):\n",
      " #   Column           Non-Null Count  Dtype  \n",
      "---  ------           --------------  -----  \n",
      " 0   R&D Spend        50 non-null     float64\n",
      " 1   Administration   50 non-null     float64\n",
      " 2   Marketing Spend  50 non-null     float64\n",
      " 3   State            50 non-null     object \n",
      " 4   Profit           50 non-null     float64\n",
      "dtypes: float64(4), object(1)\n",
      "memory usage: 2.1+ KB\n"
     ]
    }
   ],
   "source": [
    "df.info()"
   ],
   "metadata": {
    "collapsed": false
   }
  },
  {
   "cell_type": "code",
   "execution_count": 143,
   "outputs": [],
   "source": [
    "X = df.iloc[:, 0:-1].values\n",
    "y = df.iloc[:, -1].values"
   ],
   "metadata": {
    "collapsed": false
   }
  },
  {
   "cell_type": "code",
   "execution_count": 144,
   "outputs": [],
   "source": [
    "onehot = ColumnTransformer(\n",
    "    transformers = [('encoder', OneHotEncoder(), [-1])],\n",
    "    remainder = 'passthrough'\n",
    ")\n",
    "onehot.fit(X)\n",
    "X = onehot.transform(X)"
   ],
   "metadata": {
    "collapsed": false
   }
  },
  {
   "cell_type": "code",
   "execution_count": 145,
   "outputs": [
    {
     "data": {
      "text/plain": "array([[0.0, 0.0, 1.0, 165349.2, 136897.8, 471784.1],\n       [1.0, 0.0, 0.0, 162597.7, 151377.59, 443898.53],\n       [0.0, 1.0, 0.0, 153441.51, 101145.55, 407934.54],\n       [0.0, 0.0, 1.0, 144372.41, 118671.85, 383199.62],\n       [0.0, 1.0, 0.0, 142107.34, 91391.77, 366168.42],\n       [0.0, 0.0, 1.0, 131876.9, 99814.71, 362861.36],\n       [1.0, 0.0, 0.0, 134615.46, 147198.87, 127716.82],\n       [0.0, 1.0, 0.0, 130298.13, 145530.06, 323876.68],\n       [0.0, 0.0, 1.0, 120542.52, 148718.95, 311613.29],\n       [1.0, 0.0, 0.0, 123334.88, 108679.17, 304981.62],\n       [0.0, 1.0, 0.0, 101913.08, 110594.11, 229160.95],\n       [1.0, 0.0, 0.0, 100671.96, 91790.61, 249744.55],\n       [0.0, 1.0, 0.0, 93863.75, 127320.38, 249839.44],\n       [1.0, 0.0, 0.0, 91992.39, 135495.07, 252664.93],\n       [0.0, 1.0, 0.0, 119943.24, 156547.42, 256512.92],\n       [0.0, 0.0, 1.0, 114523.61, 122616.84, 261776.23],\n       [1.0, 0.0, 0.0, 78013.11, 121597.55, 264346.06],\n       [0.0, 0.0, 1.0, 94657.16, 145077.58, 282574.31],\n       [0.0, 1.0, 0.0, 91749.16, 114175.79, 294919.57],\n       [0.0, 0.0, 1.0, 86419.7, 153514.11, 0.0],\n       [1.0, 0.0, 0.0, 76253.86, 113867.3, 298664.47],\n       [0.0, 0.0, 1.0, 78389.47, 153773.43, 299737.29],\n       [0.0, 1.0, 0.0, 73994.56, 122782.75, 303319.26],\n       [0.0, 1.0, 0.0, 67532.53, 105751.03, 304768.73],\n       [0.0, 0.0, 1.0, 77044.01, 99281.34, 140574.81],\n       [1.0, 0.0, 0.0, 64664.71, 139553.16, 137962.62],\n       [0.0, 1.0, 0.0, 75328.87, 144135.98, 134050.07],\n       [0.0, 0.0, 1.0, 72107.6, 127864.55, 353183.81],\n       [0.0, 1.0, 0.0, 66051.52, 182645.56, 118148.2],\n       [0.0, 0.0, 1.0, 65605.48, 153032.06, 107138.38],\n       [0.0, 1.0, 0.0, 61994.48, 115641.28, 91131.24],\n       [0.0, 0.0, 1.0, 61136.38, 152701.92, 88218.23],\n       [1.0, 0.0, 0.0, 63408.86, 129219.61, 46085.25],\n       [0.0, 1.0, 0.0, 55493.95, 103057.49, 214634.81],\n       [1.0, 0.0, 0.0, 46426.07, 157693.92, 210797.67],\n       [0.0, 0.0, 1.0, 46014.02, 85047.44, 205517.64],\n       [0.0, 1.0, 0.0, 28663.76, 127056.21, 201126.82],\n       [1.0, 0.0, 0.0, 44069.95, 51283.14, 197029.42],\n       [0.0, 0.0, 1.0, 20229.59, 65947.93, 185265.1],\n       [1.0, 0.0, 0.0, 38558.51, 82982.09, 174999.3],\n       [1.0, 0.0, 0.0, 28754.33, 118546.05, 172795.67],\n       [0.0, 1.0, 0.0, 27892.92, 84710.77, 164470.71],\n       [1.0, 0.0, 0.0, 23640.93, 96189.63, 148001.11],\n       [0.0, 0.0, 1.0, 15505.73, 127382.3, 35534.17],\n       [1.0, 0.0, 0.0, 22177.74, 154806.14, 28334.72],\n       [0.0, 0.0, 1.0, 1000.23, 124153.04, 1903.93],\n       [0.0, 1.0, 0.0, 1315.46, 115816.21, 297114.46],\n       [1.0, 0.0, 0.0, 0.0, 135426.92, 0.0],\n       [0.0, 0.0, 1.0, 542.05, 51743.15, 0.0],\n       [1.0, 0.0, 0.0, 0.0, 116983.8, 45173.06]], dtype=object)"
     },
     "execution_count": 145,
     "metadata": {},
     "output_type": "execute_result"
    }
   ],
   "source": [
    "X"
   ],
   "metadata": {
    "collapsed": false
   }
  },
  {
   "cell_type": "code",
   "execution_count": 146,
   "outputs": [],
   "source": [
    "X_train, X_test, y_train, y_test = train_test_split(X, y, test_size = 0.2, random_state = 0)"
   ],
   "metadata": {
    "collapsed": false
   }
  },
  {
   "cell_type": "code",
   "execution_count": 147,
   "outputs": [
    {
     "data": {
      "text/plain": "LinearRegression()"
     },
     "execution_count": 147,
     "metadata": {},
     "output_type": "execute_result"
    }
   ],
   "source": [
    "reg = LinearRegression()\n",
    "reg.fit(X_train, y_train)"
   ],
   "metadata": {
    "collapsed": false
   }
  },
  {
   "cell_type": "code",
   "execution_count": 148,
   "outputs": [],
   "source": [
    "y_pred = reg.predict(X_test)"
   ],
   "metadata": {
    "collapsed": false
   }
  },
  {
   "cell_type": "code",
   "execution_count": 150,
   "outputs": [
    {
     "data": {
      "text/plain": "array([[103282.38      , 103015.20159796],\n       [144259.4       , 132582.27760815],\n       [146121.95      , 132447.73845175],\n       [ 77798.83      ,  71976.09851258],\n       [191050.39      , 178537.48221056],\n       [105008.31      , 116161.24230167],\n       [ 81229.06      ,  67851.69209676],\n       [ 97483.56      ,  98791.73374687],\n       [110352.25      , 113969.43533013],\n       [166187.94      , 167921.06569551]])"
     },
     "execution_count": 150,
     "metadata": {},
     "output_type": "execute_result"
    }
   ],
   "source": [
    "np.concatenate(\n",
    "    (\n",
    "        y_test.reshape(len(y_test), 1),\n",
    "        y_pred.reshape(len(y_pred), 1)\n",
    "    ),\n",
    "    axis = 1\n",
    ")"
   ],
   "metadata": {
    "collapsed": false
   }
  },
  {
   "cell_type": "code",
   "execution_count": null,
   "outputs": [],
   "source": [],
   "metadata": {
    "collapsed": false
   }
  }
 ],
 "metadata": {
  "kernelspec": {
   "display_name": "Python 3",
   "language": "python",
   "name": "python3"
  },
  "language_info": {
   "codemirror_mode": {
    "name": "ipython",
    "version": 2
   },
   "file_extension": ".py",
   "mimetype": "text/x-python",
   "name": "python",
   "nbconvert_exporter": "python",
   "pygments_lexer": "ipython2",
   "version": "2.7.6"
  }
 },
 "nbformat": 4,
 "nbformat_minor": 0
}
